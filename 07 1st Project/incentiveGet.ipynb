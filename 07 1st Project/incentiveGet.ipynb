{
 "cells": [
  {
   "cell_type": "code",
   "execution_count": 97,
   "metadata": {},
   "outputs": [],
   "source": [
    "import os\n",
    "import requests\n",
    "import pprint\n",
    "import pandas as pd\n",
    "pp = pprint.PrettyPrinter(indent=1)"
   ]
  },
  {
   "cell_type": "code",
   "execution_count": 98,
   "metadata": {},
   "outputs": [],
   "source": [
    "baseUrl = \"https://developer.nrel.gov/api/transportation-incentives-laws/v1.json\"\n",
    "parameters = {\n",
    "    \"limit\":\"\",\n",
    "    \"technology\":\"elec,hev,phev\",\n",
    "    \"incentive_type\":\"\",\n",
    "    \"user_type\":\"ind\",\n",
    "    \"poc\":\"false\",\n",
    "    \"recent\":\"false\",\n",
    "    \"expired\":\"false\",\n",
    "    \"local\":\"false\",\n",
    "    \"api_key\":\"8YSithplpfTqtgBc19psCeV8ACihYF5kZYSL8aK5\"\n",
    "}\n",
    "\n",
    "incentives = requests.get(baseUrl,params = parameters).json()\n"
   ]
  },
  {
   "cell_type": "code",
   "execution_count": 99,
   "metadata": {},
   "outputs": [
    {
     "name": "stdout",
     "output_type": "stream",
     "text": [
      "US 6\n",
      "AZ 10\n",
      "CA 38\n",
      "CO 11\n",
      "MT 1\n",
      "VA 5\n",
      "WA 8\n",
      "FL 7\n",
      "GA 4\n",
      "NV 3\n",
      "NC 8\n",
      "TX 5\n",
      "OR 7\n",
      "WI 4\n",
      "OH 3\n",
      "MI 6\n",
      "IA 2\n",
      "MO 3\n",
      "ME 1\n",
      "NJ 5\n",
      "PA 3\n",
      "AR 2\n",
      "DC 4\n",
      "RI 6\n",
      "NE 3\n",
      "NY 10\n",
      "TN 2\n",
      "DE 5\n",
      "LA 1\n",
      "MD 10\n",
      "HI 4\n",
      "IL 3\n",
      "UT 9\n",
      "IN 4\n",
      "ID 4\n",
      "AL 1\n",
      "ND 1\n",
      "MN 9\n",
      "KY 1\n",
      "MA 8\n",
      "CT 7\n",
      "WY 3\n",
      "VT 5\n",
      "WV 2\n",
      "SC 1\n",
      "KS 1\n",
      "NH 4\n",
      "MS 1\n"
     ]
    }
   ],
   "source": [
    "incentiveDict = {}\n",
    "# pp.pprint(incentives[\"result\"])\n",
    "# incentives[\"result\"][0][\"state\"]\n",
    "\n",
    "for x in incentives[\"result\"]:\n",
    "    if x[\"state\"] not in incentiveDict:\n",
    "        incentiveDict[x[\"state\"]]=1\n",
    "    else:\n",
    "        incentiveDict[x[\"state\"]]=incentiveDict[x[\"state\"]]+1\n",
    "\n",
    "for x in incentiveDict.keys():\n",
    "    states.append(x)\n",
    "    values.append(incentiveDict[x])\n",
    "    print (x,incentiveDict[x])"
   ]
  },
  {
   "cell_type": "code",
   "execution_count": 103,
   "metadata": {},
   "outputs": [
    {
     "data": {
      "text/html": [
       "<div>\n",
       "<style scoped>\n",
       "    .dataframe tbody tr th:only-of-type {\n",
       "        vertical-align: middle;\n",
       "    }\n",
       "\n",
       "    .dataframe tbody tr th {\n",
       "        vertical-align: top;\n",
       "    }\n",
       "\n",
       "    .dataframe thead th {\n",
       "        text-align: right;\n",
       "    }\n",
       "</style>\n",
       "<table border=\"1\" class=\"dataframe\">\n",
       "  <thead>\n",
       "    <tr style=\"text-align: right;\">\n",
       "      <th></th>\n",
       "      <th>states</th>\n",
       "      <th>incentiveCount</th>\n",
       "    </tr>\n",
       "  </thead>\n",
       "  <tbody>\n",
       "    <tr>\n",
       "      <th>0</th>\n",
       "      <td>US</td>\n",
       "      <td>6</td>\n",
       "    </tr>\n",
       "    <tr>\n",
       "      <th>1</th>\n",
       "      <td>AZ</td>\n",
       "      <td>10</td>\n",
       "    </tr>\n",
       "    <tr>\n",
       "      <th>2</th>\n",
       "      <td>CA</td>\n",
       "      <td>38</td>\n",
       "    </tr>\n",
       "    <tr>\n",
       "      <th>3</th>\n",
       "      <td>CO</td>\n",
       "      <td>11</td>\n",
       "    </tr>\n",
       "    <tr>\n",
       "      <th>4</th>\n",
       "      <td>MT</td>\n",
       "      <td>1</td>\n",
       "    </tr>\n",
       "  </tbody>\n",
       "</table>\n",
       "</div>"
      ],
      "text/plain": [
       "  states  incentiveCount\n",
       "0     US               6\n",
       "1     AZ              10\n",
       "2     CA              38\n",
       "3     CO              11\n",
       "4     MT               1"
      ]
     },
     "execution_count": 103,
     "metadata": {},
     "output_type": "execute_result"
    }
   ],
   "source": [
    "states = []\n",
    "values = []\n",
    "\n",
    "for x in incentiveDict.keys():\n",
    "    states.append(x)\n",
    "    values.append(incentiveDict[x])\n",
    "    \n",
    "incentiveCount = pd.DataFrame({\"states\":states,\"incentiveCount\":values})\n",
    "incentiveCount.head()"
   ]
  },
  {
   "cell_type": "code",
   "execution_count": 104,
   "metadata": {},
   "outputs": [],
   "source": [
    "outputFile = os.path.join(\"..\",\"Team9\",\"Datasets\",\"Incentive Count by State.csv\")\n",
    "incentiveCount.to_csv(outputFile)"
   ]
  },
  {
   "cell_type": "code",
   "execution_count": null,
   "metadata": {},
   "outputs": [],
   "source": []
  }
 ],
 "metadata": {
  "kernelspec": {
   "display_name": "Python 3",
   "language": "python",
   "name": "python3"
  },
  "language_info": {
   "codemirror_mode": {
    "name": "ipython",
    "version": 3
   },
   "file_extension": ".py",
   "mimetype": "text/x-python",
   "name": "python",
   "nbconvert_exporter": "python",
   "pygments_lexer": "ipython3",
   "version": "3.7.2"
  }
 },
 "nbformat": 4,
 "nbformat_minor": 2
}
